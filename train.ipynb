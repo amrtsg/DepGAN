{
 "cells": [
  {
   "cell_type": "code",
   "execution_count": null,
   "metadata": {},
   "outputs": [],
   "source": [
    "from matplotlib import pyplot as plt\n",
    "from encoders.cgan import (\n",
    "    load_imgs, \n",
    "    preprocess_data, \n",
    "    define_discriminator, \n",
    "    define_generator, \n",
    "    define_gan, \n",
    "    train\n",
    "    )\n",
    "import config as cfg\n",
    "from datetime import datetime\n",
    "from encoders.stn import Localization, BilinearInterpolation"
   ]
  },
  {
   "cell_type": "code",
   "execution_count": null,
   "metadata": {},
   "outputs": [],
   "source": [
    "\n",
    "backgrounds = load_imgs(f\"data/{cfg.TRAIN_DATASET}/train/background/\")\n",
    "paired = load_imgs(f\"data/{cfg.TRAIN_DATASET}/train/composite/\")\n",
    "objects = load_imgs(f\"data/{cfg.TRAIN_DATASET}/train/foreground/\")\n",
    "depth = load_imgs(f\"data/{cfg.TRAIN_DATASET}/train/depth/\")\n",
    "print('Loaded train: ', backgrounds.shape, paired.shape, objects.shape, depth.shape)\n",
    "\n",
    "# Define data\n",
    "data = [backgrounds, paired, objects, depth]\n",
    "dataset = preprocess_data(data)\n",
    "\n",
    "# TODO!! MAKE YOUR OWN SPLIT IF YOU WANT TO VALIDATE!\n",
    "# currently it is using the train set so its useless.\n",
    "if cfg.USE_VAL:\n",
    "    val_backgrounds = load_imgs(f\"data/{cfg.TRAIN_DATASET}/train/background/\")\n",
    "    val_paired = load_imgs(f\"data/{cfg.TRAIN_DATASET}/train/composite/\")\n",
    "    val_objects = load_imgs(f\"data/{cfg.TRAIN_DATASET}/train/foreground/\")\n",
    "    val_depth = load_imgs(f\"data/{cfg.TRAIN_DATASET}/train/depth/\")\n",
    "    print('Loaded validation: ', val_backgrounds.shape, val_paired.shape, val_objects.shape, val_depth.shape)\n",
    "    val_data = [val_backgrounds, val_paired, val_objects, val_depth]\n",
    "    val_dataset = preprocess_data(val_data)"
   ]
  },
  {
   "cell_type": "code",
   "execution_count": null,
   "metadata": {},
   "outputs": [],
   "source": [
    "n_samples = 3\n",
    "n_rows = 4\n",
    "\n",
    "for i in range(n_samples):\n",
    "    # Plot background images\n",
    "    plt.subplot(n_rows, n_samples, 1 + i)\n",
    "    plt.axis('off')\n",
    "    plt.imshow(backgrounds[i].astype('uint8'))\n",
    "\n",
    "for i in range(n_samples):\n",
    "    # Plot target images (paired)\n",
    "    plt.subplot(n_rows, n_samples, 1 + n_samples + i)\n",
    "    plt.axis('off')\n",
    "    plt.imshow(depth[i].astype('uint8'))\n",
    "\n",
    "for i in range(n_samples):\n",
    "    # Plot target images (paired)\n",
    "    plt.subplot(n_rows, n_samples, 1 + 2 * n_samples + i)\n",
    "    plt.axis('off')\n",
    "    plt.imshow(objects[i].astype('uint8'))\n",
    "\n",
    "for i in range(n_samples):\n",
    "    plt.subplot(n_rows, n_samples, 1 + 3 * n_samples + i)\n",
    "    plt.axis('off')\n",
    "    plt.imshow(paired[i].astype('uint8'))\n",
    "\n",
    "plt.show()"
   ]
  },
  {
   "cell_type": "code",
   "execution_count": null,
   "metadata": {},
   "outputs": [],
   "source": [
    "if cfg.STN_CHECK:\n",
    "\tprocessed = (objects - 127.5) / 127.5\n",
    "\ttheta = Localization()(processed)\n",
    "\tprint(theta)\n",
    "\tx = BilinearInterpolation(height=256, width=256)([processed, theta])\n",
    "\n",
    "\t# Display the original and transformed images\n",
    "\tplt.figure(figsize=(10, 4))\n",
    "\t# Display the original image\n",
    "\tplt.subplot(1, 3, 1)\n",
    "\toriginal_img = processed[0]\n",
    "\tplt.imshow(original_img)\n",
    "\tplt.title('Original Image')\n",
    "\tplt.axis('off')\n",
    "\t# Display the transformed images\n",
    "\tplt.subplot(1, 3, 2)\n",
    "\ttransformed_img = x[0]\n",
    "\tplt.imshow(transformed_img)\n",
    "\tplt.title('Transformed Image')\n",
    "\tplt.axis('off')\n",
    "\tplt.subplot(1, 3, 3)\n",
    "\ttransformed_img = x[1]\n",
    "\tplt.imshow(transformed_img)\n",
    "\tplt.title('Transformed Image')\n",
    "\tplt.axis('off')\n",
    "\tplt.show()"
   ]
  },
  {
   "cell_type": "code",
   "execution_count": null,
   "metadata": {},
   "outputs": [],
   "source": [
    "# define input shape based on the loaded dataset\n",
    "image_shape = backgrounds.shape[1:]\n",
    "# define the models\n",
    "d_model = define_discriminator(image_shape, cfg.D_LR)\n",
    "g_model = define_generator(image_shape, cfg.USE_STN)\n",
    "# define the composite model\n",
    "gan_model = define_gan(g_model, d_model, image_shape, cfg.G_LR)\n",
    "g_model.summary()"
   ]
  },
  {
   "cell_type": "code",
   "execution_count": null,
   "metadata": {},
   "outputs": [],
   "source": [
    "start = datetime.now()\n",
    "if cfg.USE_VAL:\n",
    "    train(d_model, g_model, gan_model, dataset, val_dataset)\n",
    "else:\n",
    "    train(d_model, g_model, gan_model, dataset)\n",
    "\n",
    "stop = datetime.now()\n",
    "#Execution time of the model\n",
    "execution_time = stop-start\n",
    "print(\"Execution time is: \", execution_time)"
   ]
  }
 ],
 "metadata": {
  "kernelspec": {
   "display_name": "proto",
   "language": "python",
   "name": "python3"
  },
  "language_info": {
   "codemirror_mode": {
    "name": "ipython",
    "version": 3
   },
   "file_extension": ".py",
   "mimetype": "text/x-python",
   "name": "python",
   "nbconvert_exporter": "python",
   "pygments_lexer": "ipython3",
   "version": "3.10.13"
  },
  "orig_nbformat": 4
 },
 "nbformat": 4,
 "nbformat_minor": 2
}
