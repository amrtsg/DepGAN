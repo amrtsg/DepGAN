{
 "cells": [
  {
   "cell_type": "code",
   "execution_count": null,
   "metadata": {},
   "outputs": [],
   "source": [
    "from encoders.cgan import *\n",
    "from tensorflow.keras.models import load_model\n",
    "from encoders.stn import Localization, BilinearInterpolation\n",
    "from PIL import Image"
   ]
  },
  {
   "cell_type": "code",
   "execution_count": null,
   "metadata": {},
   "outputs": [],
   "source": [
    "backgrounds = load_imgs(f\"data/{cfg.TEST_DATASET}/test/background/\")\n",
    "objects = load_imgs(f\"data/{cfg.TEST_DATASET}/test/foreground/\")\n",
    "depth = load_imgs(f\"data/{cfg.TEST_DATASET}/test/depth/\")\n",
    "print('Loaded: ', backgrounds.shape, objects.shape, depth.shape)\n",
    "\n",
    "data = [backgrounds, objects, depth]\n",
    "dataset = preprocess_data(data)"
   ]
  },
  {
   "cell_type": "code",
   "execution_count": null,
   "metadata": {},
   "outputs": [],
   "source": [
    "n_samples = 3\n",
    "n_rows = 3\n",
    "\n",
    "# Plot background images\n",
    "for i in range(n_samples):\n",
    "    plt.subplot(n_rows, n_samples, 1 + i)\n",
    "    plt.axis('off')\n",
    "    plt.imshow(backgrounds[i].astype('uint8'))\n",
    "\n",
    "# Plot depth images\n",
    "for i in range(n_samples):\n",
    "    plt.subplot(n_rows, n_samples, 1 + n_samples + i)\n",
    "    plt.axis('off')\n",
    "    plt.imshow(depth[i].astype('uint8'))\n",
    "\n",
    "# Plot objects images\n",
    "for i in range(n_samples):\n",
    "    plt.subplot(n_rows, n_samples, 1 + 2 * n_samples + i)\n",
    "    plt.axis('off')\n",
    "    plt.imshow(objects[i].astype('uint8'))\n",
    "\n",
    "plt.show()"
   ]
  },
  {
   "cell_type": "code",
   "execution_count": null,
   "metadata": {},
   "outputs": [],
   "source": [
    "# USE LINE BELOW IF YOU TRAINED WITH STN\n",
    "# model = load_model('logs/cgan/models/g_model.h5', custom_objects={'Localization': Localization, 'BilinearInterpolation': BilinearInterpolation})\n",
    "model = load_model(f'{cfg.MODEL_DIR}g_model_epoch{cfg.TEST_EPOCH}.h5')\n",
    "\n",
    "# select a sample of input images\n",
    "[backgrounds, objects, depth] = dataset\n",
    "# generate a batch of fake samples\n",
    "generated, _ = generate_fake_samples(model, backgrounds, objects, depth, 1)\n",
    "# scale all pixels from [-1,1] to [0,1]\n",
    "backgrounds = (backgrounds + 1) / 2.0\n",
    "generated = (generated + 1) / 2.0\n",
    "objects = (objects + 1) / 2.0\n",
    "depth = (depth + 1) / 2.0\n",
    "\n",
    "output_folder = f'{cfg.GEN_DIR}{cfg.TEST_DATASET}/'\n",
    "if not os.path.exists(output_folder):\n",
    "\tos.makedirs(output_folder)\n",
    "for i in range(generated.shape[0]):\n",
    "    image = generated[i].numpy() * 255  # Convert TensorFlow tensor to NumPy array and then scale\n",
    "    image = image.astype(np.uint8)\n",
    "    img = Image.fromarray(image)\n",
    "    img.save(f'{output_folder}/generated_image_{i}.png')\n",
    "\n",
    "print(f'Saved {generated.shape[0]} generated images to {output_folder}')"
   ]
  }
 ],
 "metadata": {
  "kernelspec": {
   "display_name": "proto",
   "language": "python",
   "name": "python3"
  },
  "language_info": {
   "codemirror_mode": {
    "name": "ipython",
    "version": 3
   },
   "file_extension": ".py",
   "mimetype": "text/x-python",
   "name": "python",
   "nbconvert_exporter": "python",
   "pygments_lexer": "ipython3",
   "version": "3.10.13"
  },
  "orig_nbformat": 4
 },
 "nbformat": 4,
 "nbformat_minor": 2
}
